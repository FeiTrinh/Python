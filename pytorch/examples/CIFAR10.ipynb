{
 "cells": [
  {
   "cell_type": "markdown",
   "id": "7065aaf4-37aa-4213-a3a1-44abe1556c56",
   "metadata": {},
   "source": [
    "# 头文件导入  "
   ]
  },
  {
   "cell_type": "code",
   "execution_count": 1,
   "id": "5193bd9a-9a5b-4faa-a077-e27a3f8300bf",
   "metadata": {},
   "outputs": [],
   "source": [
    "import torch\n",
    "import torchvision\n",
    "import torchsummary\n",
    "import os\n",
    "import time\n",
    "import numpy as np\n",
    "import matplotlib.pyplot as plt"
   ]
  },
  {
   "cell_type": "markdown",
   "id": "024947d5-a12c-44eb-8466-e90a97c6cd55",
   "metadata": {},
   "source": [
    "# 常量定义  "
   ]
  },
  {
   "cell_type": "code",
   "execution_count": 2,
   "id": "b51139c0-5a59-4bf7-90f0-f1e59837cf9e",
   "metadata": {},
   "outputs": [
    {
     "name": "stdout",
     "output_type": "stream",
     "text": [
      "cuda:0\n"
     ]
    }
   ],
   "source": [
    "TRANSFORM = torchvision.transforms.Compose(\n",
    "    [\n",
    "     #torchvision.transforms.Normalize((0.5, 0.5, 0.5), (0.5, 0.5, 0.5)),\n",
    "     torchvision.transforms.ToTensor()\n",
    "    ])\n",
    "BATCH_SIZE = 4\n",
    "CLASSES = ('plane', 'car', 'bird', 'cat',\n",
    "           'deer', 'dog', 'frog', 'horse', 'ship', 'truck')\n",
    "DEVICE = torch.device(\"cuda:0\" if torch.cuda.is_available() else \"cpu\")\n",
    "print(DEVICE)"
   ]
  },
  {
   "cell_type": "markdown",
   "id": "f19f0b3f-3a20-434c-80b2-311e94236e05",
   "metadata": {},
   "source": [
    "# 数据集导入  \n",
    "## 官方数据集导入  "
   ]
  },
  {
   "cell_type": "code",
   "execution_count": 3,
   "id": "c353d3f3-33c5-4e0f-85c4-b127affffda3",
   "metadata": {},
   "outputs": [
    {
     "name": "stdout",
     "output_type": "stream",
     "text": [
      "Files already downloaded and verified\n",
      "Files already downloaded and verified\n"
     ]
    }
   ],
   "source": [
    "TRAINDATASETS = torchvision.datasets.CIFAR10(root='../datasets/CIFAR', train=True,\n",
    "                                        download=True, transform=TRANSFORM)\n",
    "TRAINLOADER = torch.utils.data.DataLoader(TRAINDATASETS, batch_size=BATCH_SIZE,\n",
    "                                          shuffle=True)\n",
    "\n",
    "TESTDATASETS = torchvision.datasets.CIFAR10(root='../datasets/CIFAR', train=False,\n",
    "                                       download=True, transform=TRANSFORM)\n",
    "TESTLOADER = torch.utils.data.DataLoader(TESTDATASETS, batch_size=BATCH_SIZE,\n",
    "                                         shuffle=False)"
   ]
  },
  {
   "cell_type": "markdown",
   "id": "008a1647-4af8-4eaa-9674-5699853f66e2",
   "metadata": {},
   "source": [
    "TRAINDATASETS[?] 返回值为 data,label  \n",
    "data形状为[3,32,32] ([c,h,w])的张量 label数值为int  \n",
    "plt.imshow 需要传入[h,w,c] 所以通过 np.transpose 将通道调整  "
   ]
  },
  {
   "cell_type": "code",
   "execution_count": 4,
   "id": "22f8b9e7-6602-4ad1-80a2-23e0681a84df",
   "metadata": {},
   "outputs": [
    {
     "data": {
      "text/plain": [
       "<matplotlib.image.AxesImage at 0x17e2be32580>"
      ]
     },
     "execution_count": 4,
     "metadata": {},
     "output_type": "execute_result"
    },
    {
     "data": {
      "image/png": "[encoded data removed]",
      "text/plain": [
       "<Figure size 432x288 with 1 Axes>"
      ]
     },
     "metadata": {
      "needs_background": "light"
     },
     "output_type": "display_data"
    }
   ],
   "source": [
    "_ = np.random.randint(0,len(TRAINDATASETS))\n",
    "img,label = TRAINDATASETS[_]\n",
    "img = np.transpose(img,(1,2,0))\n",
    "plt.title(CLASSES[label])\n",
    "plt.imshow(img)"
   ]
  },
  {
   "cell_type": "markdown",
   "id": "62a25504-df3d-457c-a4f4-686bee299fd8",
   "metadata": {},
   "source": [
    "## 自建数据集  "
   ]
  },
  {
   "cell_type": "markdown",
   "id": "b0b6b9bc-908f-41f0-ba6b-e8144b89da55",
   "metadata": {},
   "source": [
    "CIFAR10 共有是10类文件 \n",
    "\n",
    "| 英文 | 中文 | 标签 |\n",
    "| ---  | --- | --- |\n",
    "| airplane | 飞机 | 0 |\n",
    "| automobile | 汽车 | 1 |\n",
    "| bird | 鸟 | 2 |\n",
    "| cat | 猫 | 3 |\n",
    "| deer | 鹿 | 4 |\n",
    "| dog | 狗 | 5 |\n",
    "| frog | 青蛙 | 6 |\n",
    "| horse | 马 | 7 |\n",
    "| ship | 船 | 8 |\n",
    "| truk | 卡车 | 9 |\n",
    "\n",
    "官方数据集文件每类6000张共60000张  \n",
    "测试集10000张，训练集50000张  \n",
    "每张图片为3通道32X32像素图片  \n",
    "官方提供文件代码解析函数为  \n",
    "```python\n",
    "def unpickle(file):\n",
    "    import pickle\n",
    "    with open(file, 'rb') as fo:\n",
    "        dict = pickle.load(fo, encoding='bytes')\n",
    "    return dict\n",
    "```\n",
    "如果传入为对应数据则返回值为词典  \n",
    "b'batch_label':无用  \n",
    "b'labels':对应label  \n",
    "b'data':np.array数据类型,形状为(N,3*32*32),每个数据为1024(R)+1024(G)+1024(B)  \n",
    "b'filenames':文件路径  "
   ]
  },
  {
   "cell_type": "code",
   "execution_count": 5,
   "id": "4675a078-7968-4e0e-a0d5-5734a85fe3af",
   "metadata": {},
   "outputs": [],
   "source": [
    "def unpickle(file):\n",
    "    import pickle\n",
    "    with open(file, 'rb') as fo:\n",
    "        dict = pickle.load(fo, encoding='bytes')\n",
    "    return dict"
   ]
  },
  {
   "cell_type": "code",
   "execution_count": 6,
   "id": "3f247581-a6ad-4dd7-821e-8cd8a26b5635",
   "metadata": {},
   "outputs": [],
   "source": [
    "class MyDataSets(torch.utils.data.Dataset):\n",
    "    def __init__(self,train=True,transform=None):\n",
    "        super(MyDataSets,self).__init__()\n",
    "        self.train = train\n",
    "        self.transform = transform\n",
    "        self.data,self.labels = [],[]\n",
    "        if self.train:\n",
    "            for i in range(1,6):\n",
    "                temp = unpickle(\"../datasets/CIFAR/cifar-10-batches-py/data_batch_{}\".format(i))\n",
    "                self.data = self.data + ([np.transpose( x.reshape((3,32,32)),(1, 2, 0)) for x in temp[b'data']  ])\n",
    "                self.labels = self.labels + temp[b'labels']\n",
    "        else:\n",
    "            temp = unpickle(\"../datasets/CIFAR/cifar-10-batches-py/test_batch\")\n",
    "            self.data = self.data + ([np.transpose( x.reshape((3,32,32)),(1, 2, 0)) for x in temp[b'data']  ])\n",
    "            self.labels = self.labels + temp[b'labels']\n",
    "        self.data = np.array(self.data,dtype=np.uint8)\n",
    "        self.labels = np.array(self.labels,dtype=np.int64)\n",
    "    def __getitem__(self,idx):\n",
    "        data,label = self.data[idx],self.labels[idx]\n",
    "        data = self.transform(data)\n",
    "        return data,label\n",
    "    def __len__(self):\n",
    "        return len(self.labels)"
   ]
  },
  {
   "cell_type": "code",
   "execution_count": 7,
   "id": "5d33d1dc-4dac-4b29-82f1-3578c15f2892",
   "metadata": {},
   "outputs": [],
   "source": [
    "TRAINDATASETS = MyDataSets(train=True,transform=TRANSFORM)\n",
    "TRAINLOADER = torch.utils.data.DataLoader(TRAINDATASETS, batch_size=BATCH_SIZE,\n",
    "                                          shuffle=True)\n",
    "\n",
    "TESTDATASETS = MyDataSets(train=False, transform=TRANSFORM)\n",
    "TESTLOADER = torch.utils.data.DataLoader(TESTDATASETS, batch_size=BATCH_SIZE,\n",
    "                                         shuffle=False)"
   ]
  },
  {
   "cell_type": "code",
   "execution_count": 8,
   "id": "70997c93-7718-448a-b72b-038a37b5c2f4",
   "metadata": {},
   "outputs": [
    {
     "data": {
      "text/plain": [
       "<matplotlib.image.AxesImage at 0x17e2bf8e3a0>"
      ]
     },
     "execution_count": 8,
     "metadata": {},
     "output_type": "execute_result"
    },
    {
     "data": {
      "image/png": "[encoded data removed]",
      "text/plain": [
       "<Figure size 432x288 with 1 Axes>"
      ]
     },
     "metadata": {
      "needs_background": "light"
     },
     "output_type": "display_data"
    }
   ],
   "source": [
    "_ = np.random.randint(0,len(TRAINDATASETS))\n",
    "img,label = TRAINDATASETS[_]\n",
    "img = np.transpose(img,(1,2,0))\n",
    "plt.title(CLASSES[label])\n",
    "plt.imshow(img)"
   ]
  },
  {
   "cell_type": "markdown",
   "id": "31393ebb-01b0-4ead-8f8b-b6178f746b2b",
   "metadata": {},
   "source": [
    "# 网络搭建"
   ]
  },
  {
   "cell_type": "code",
   "execution_count": 18,
   "id": "93d3427a-2fe5-4d87-818b-a62796f0cf60",
   "metadata": {},
   "outputs": [
    {
     "name": "stdout",
     "output_type": "stream",
     "text": [
      "----------------------------------------------------------------\n",
      "        Layer (type)               Output Shape         Param #\n",
      "================================================================\n",
      "            Conv2d-1            [-1, 6, 28, 28]             456\n",
      "         MaxPool2d-2            [-1, 6, 14, 14]               0\n",
      "            Conv2d-3           [-1, 16, 10, 10]           2,416\n",
      "         MaxPool2d-4             [-1, 16, 5, 5]               0\n",
      "            Linear-5                  [-1, 120]          48,120\n",
      "            Linear-6                   [-1, 84]          10,164\n",
      "            Linear-7                   [-1, 10]             850\n",
      "================================================================\n",
      "Total params: 62,006\n",
      "Trainable params: 62,006\n",
      "Non-trainable params: 0\n",
      "----------------------------------------------------------------\n",
      "Input size (MB): 0.01\n",
      "Forward/backward pass size (MB): 0.06\n",
      "Params size (MB): 0.24\n",
      "Estimated Total Size (MB): 0.31\n",
      "----------------------------------------------------------------\n"
     ]
    }
   ],
   "source": [
    "class Net(torch.nn.Module):\n",
    "    def __init__(self):\n",
    "        super().__init__()\n",
    "        self.conv1 = torch.nn.Conv2d(3, 6, 5)\n",
    "        self.pool = torch.nn.MaxPool2d(2, 2)\n",
    "        self.conv2 = torch.nn.Conv2d(6, 16, 5)\n",
    "        self.fc1 = torch.nn.Linear(16 * 5 * 5, 120)\n",
    "        self.fc2 = torch.nn.Linear(120, 84)\n",
    "        self.fc3 = torch.nn.Linear(84, 10)\n",
    "\n",
    "    def forward(self, x):\n",
    "        x = self.pool(torch.nn.functional.relu(self.conv1(x)))\n",
    "        x = self.pool(torch.nn.functional.relu(self.conv2(x)))\n",
    "        x = torch.flatten(x, 1) # flatten all dimensions except batch\n",
    "        x = torch.nn.functional.relu(self.fc1(x))\n",
    "        x = torch.nn.functional.relu(self.fc2(x))\n",
    "        x = self.fc3(x)\n",
    "        return x\n",
    "model = Net()\n",
    "model.to(DEVICE)\n",
    "torchsummary.summary(model,(3,32,32))"
   ]
  },
  {
   "cell_type": "code",
   "execution_count": 22,
   "id": "c4ba31b5-81f3-4c97-97e2-8d2708742f9b",
   "metadata": {},
   "outputs": [
    {
     "name": "stdout",
     "output_type": "stream",
     "text": [
      "----------------------------------------------------------------\n",
      "        Layer (type)               Output Shape         Param #\n",
      "================================================================\n",
      "            Conv2d-1           [-1, 64, 16, 16]           9,408\n",
      "       BatchNorm2d-2           [-1, 64, 16, 16]             128\n",
      "              ReLU-3           [-1, 64, 16, 16]               0\n",
      "         MaxPool2d-4             [-1, 64, 8, 8]               0\n",
      "            Conv2d-5             [-1, 64, 8, 8]          36,864\n",
      "       BatchNorm2d-6             [-1, 64, 8, 8]             128\n",
      "              ReLU-7             [-1, 64, 8, 8]               0\n",
      "            Conv2d-8             [-1, 64, 8, 8]          36,864\n",
      "       BatchNorm2d-9             [-1, 64, 8, 8]             128\n",
      "             ReLU-10             [-1, 64, 8, 8]               0\n",
      "       BasicBlock-11             [-1, 64, 8, 8]               0\n",
      "           Conv2d-12             [-1, 64, 8, 8]          36,864\n",
      "      BatchNorm2d-13             [-1, 64, 8, 8]             128\n",
      "             ReLU-14             [-1, 64, 8, 8]               0\n",
      "           Conv2d-15             [-1, 64, 8, 8]          36,864\n",
      "      BatchNorm2d-16             [-1, 64, 8, 8]             128\n",
      "             ReLU-17             [-1, 64, 8, 8]               0\n",
      "       BasicBlock-18             [-1, 64, 8, 8]               0\n",
      "           Conv2d-19            [-1, 128, 4, 4]          73,728\n",
      "      BatchNorm2d-20            [-1, 128, 4, 4]             256\n",
      "             ReLU-21            [-1, 128, 4, 4]               0\n",
      "           Conv2d-22            [-1, 128, 4, 4]         147,456\n",
      "      BatchNorm2d-23            [-1, 128, 4, 4]             256\n",
      "           Conv2d-24            [-1, 128, 4, 4]           8,192\n",
      "      BatchNorm2d-25            [-1, 128, 4, 4]             256\n",
      "             ReLU-26            [-1, 128, 4, 4]               0\n",
      "       BasicBlock-27            [-1, 128, 4, 4]               0\n",
      "           Conv2d-28            [-1, 128, 4, 4]         147,456\n",
      "      BatchNorm2d-29            [-1, 128, 4, 4]             256\n",
      "             ReLU-30            [-1, 128, 4, 4]               0\n",
      "           Conv2d-31            [-1, 128, 4, 4]         147,456\n",
      "      BatchNorm2d-32            [-1, 128, 4, 4]             256\n",
      "             ReLU-33            [-1, 128, 4, 4]               0\n",
      "       BasicBlock-34            [-1, 128, 4, 4]               0\n",
      "           Conv2d-35            [-1, 256, 2, 2]         294,912\n",
      "      BatchNorm2d-36            [-1, 256, 2, 2]             512\n",
      "             ReLU-37            [-1, 256, 2, 2]               0\n",
      "           Conv2d-38            [-1, 256, 2, 2]         589,824\n",
      "      BatchNorm2d-39            [-1, 256, 2, 2]             512\n",
      "           Conv2d-40            [-1, 256, 2, 2]          32,768\n",
      "      BatchNorm2d-41            [-1, 256, 2, 2]             512\n",
      "             ReLU-42            [-1, 256, 2, 2]               0\n",
      "       BasicBlock-43            [-1, 256, 2, 2]               0\n",
      "           Conv2d-44            [-1, 256, 2, 2]         589,824\n",
      "      BatchNorm2d-45            [-1, 256, 2, 2]             512\n",
      "             ReLU-46            [-1, 256, 2, 2]               0\n",
      "           Conv2d-47            [-1, 256, 2, 2]         589,824\n",
      "      BatchNorm2d-48            [-1, 256, 2, 2]             512\n",
      "             ReLU-49            [-1, 256, 2, 2]               0\n",
      "       BasicBlock-50            [-1, 256, 2, 2]               0\n",
      "           Conv2d-51            [-1, 512, 1, 1]       1,179,648\n",
      "      BatchNorm2d-52            [-1, 512, 1, 1]           1,024\n",
      "             ReLU-53            [-1, 512, 1, 1]               0\n",
      "           Conv2d-54            [-1, 512, 1, 1]       2,359,296\n",
      "      BatchNorm2d-55            [-1, 512, 1, 1]           1,024\n",
      "           Conv2d-56            [-1, 512, 1, 1]         131,072\n",
      "      BatchNorm2d-57            [-1, 512, 1, 1]           1,024\n",
      "             ReLU-58            [-1, 512, 1, 1]               0\n",
      "       BasicBlock-59            [-1, 512, 1, 1]               0\n",
      "           Conv2d-60            [-1, 512, 1, 1]       2,359,296\n",
      "      BatchNorm2d-61            [-1, 512, 1, 1]           1,024\n",
      "             ReLU-62            [-1, 512, 1, 1]               0\n",
      "           Conv2d-63            [-1, 512, 1, 1]       2,359,296\n",
      "      BatchNorm2d-64            [-1, 512, 1, 1]           1,024\n",
      "             ReLU-65            [-1, 512, 1, 1]               0\n",
      "       BasicBlock-66            [-1, 512, 1, 1]               0\n",
      "AdaptiveAvgPool2d-67            [-1, 512, 1, 1]               0\n",
      "           Linear-68                 [-1, 1000]         513,000\n",
      "           Linear-69                   [-1, 10]          10,010\n",
      "================================================================\n",
      "Total params: 11,699,522\n",
      "Trainable params: 11,699,522\n",
      "Non-trainable params: 0\n",
      "----------------------------------------------------------------\n",
      "Input size (MB): 0.01\n",
      "Forward/backward pass size (MB): 1.29\n",
      "Params size (MB): 44.63\n",
      "Estimated Total Size (MB): 45.93\n",
      "----------------------------------------------------------------\n"
     ]
    }
   ],
   "source": [
    "model = torchvision.models.resnet18(True)\n",
    "model.fc=torch.nn.Sequential(\n",
    "    torch.nn.Linear(512,1000),\n",
    "    torch.nn.Linear(1000,10))\n",
    "model.to(DEVICE)\n",
    "torchsummary.summary(model,(3,32,32))"
   ]
  },
  {
   "cell_type": "markdown",
   "id": "2d1fd75b-e9a4-4cca-9d3c-7fb09612840b",
   "metadata": {},
   "source": [
    "# 模型训练"
   ]
  },
  {
   "cell_type": "code",
   "execution_count": 23,
   "id": "288a7bca-c852-490d-8d3c-6a57db1ff9ac",
   "metadata": {},
   "outputs": [],
   "source": [
    "criterion = torch.nn.CrossEntropyLoss()\n",
    "optimizer = torch.optim.SGD(model.parameters(), lr=0.001, momentum=0.9)"
   ]
  },
  {
   "cell_type": "code",
   "execution_count": 25,
   "id": "4014a0f8-4eec-4eea-ac7a-a76cd195f4ed",
   "metadata": {},
   "outputs": [
    {
     "name": "stdout",
     "output_type": "stream",
     "text": [
      "epoch: 0\t train\t:100.00%\t loss:1.70\t\n",
      "epoch: 0\t test\t:100.00%\t accuracy:59.20%\t\n",
      "epoch 0 time: is 388.793s\n",
      "epoch: 1\t train\t:100.00%\t loss:1.36\t\n",
      "epoch: 1\t test\t:100.00%\t accuracy:65.48%\t\n",
      "epoch 1 time: is 389.530s\n"
     ]
    }
   ],
   "source": [
    "import sys\n",
    "\n",
    "for epoch in range(2):\n",
    "    start_time = time.perf_counter()\n",
    "    model.train()\n",
    "    running_loss = 0.0\n",
    "    for batch_idx,data in enumerate(TRAINLOADER):\n",
    "        inputs,target = data\n",
    "        inputs,target = inputs.to(DEVICE),target.to(DEVICE)\n",
    "        optimizer.zero_grad()\n",
    "        outputs = model(inputs)\n",
    "        #target = target.squeeze()\n",
    "        loss = criterion(outputs,target)\n",
    "        loss.backward()\n",
    "        optimizer.step()\n",
    "        running_loss += loss.item()\n",
    "        if batch_idx % 50 == 49:\n",
    "            sys.stdout.write(\"epoch:{:2d}\\t {}\\t:{:.2%}\\t loss:{:.2f}\\t\\r\".format(epoch,\"train\",(batch_idx+1)/len(TRAINLOADER),running_loss/(batch_idx+1)))\n",
    "            sys.stdout.flush()\n",
    "    sys.stdout.write('\\n')\n",
    "    sys.stdout.flush()\n",
    "    \n",
    "    model.eval()\n",
    "    correct = 0\n",
    "    total = 0\n",
    "    with torch.no_grad():\n",
    "        for batch_idx,data in enumerate(TESTLOADER):\n",
    "            inputs,target = data\n",
    "            inputs,target = inputs.to(DEVICE),target.to(DEVICE)\n",
    "            outputs = model(inputs)\n",
    "            #target = target.squeeze()\n",
    "            _,predict = torch.max(outputs.data,dim=1)\n",
    "            total += target.size(0)\n",
    "            correct += (predict == target).sum().item()\n",
    "            if batch_idx % 50 == 49:\n",
    "                sys.stdout.write(\"epoch:{:2d}\\t {}\\t:{:.2%}\\t accuracy:{:.2%}\\t\\r\".format(epoch,\"test\",(batch_idx+1)/len(TESTLOADER),correct/total))\n",
    "                sys.stdout.flush()\n",
    "        sys.stdout.write('\\n')\n",
    "        sys.stdout.flush()\n",
    "    end_time = time.perf_counter()\n",
    "    print(\"epoch {} time: is {:.3f}s\".format(epoch,end_time-start_time))"
   ]
  },
  {
   "cell_type": "markdown",
   "id": "b96785f8-99f9-4f0f-9a7d-4b67e1d84cc8",
   "metadata": {},
   "source": [
    "# 结果测试"
   ]
  },
  {
   "cell_type": "code",
   "execution_count": 40,
   "id": "e7eafb20-0ce5-41bf-97c1-9032db2c0423",
   "metadata": {},
   "outputs": [
    {
     "name": "stdout",
     "output_type": "stream",
     "text": [
      "tensor([[-5.7256, -4.2241,  9.9137, -0.2976,  4.4520,  4.2210,  6.8563, -0.5643,\n",
      "         -9.1874, -5.4846]], device='cuda:0')\n",
      "dog : False\n"
     ]
    },
    {
     "data": {
      "image/png": "[encoded data removed]",
      "text/plain": [
       "<Figure size 432x288 with 1 Axes>"
      ]
     },
     "metadata": {
      "needs_background": "light"
     },
     "output_type": "display_data"
    }
   ],
   "source": [
    "with torch.no_grad():\n",
    "    choice = np.random.randint(0,len(TESTDATASETS))\n",
    "    inputs,target = TESTDATASETS[choice]\n",
    "    inputs = torch.as_tensor( np.array( [inputs.numpy()]) )\n",
    "    inputs = inputs.to(DEVICE)\n",
    "    outputs = model(inputs)\n",
    "    print(outputs)\n",
    "    _,predict = torch.max(outputs.data,dim=1)\n",
    "    plt.title(CLASSES[predict])\n",
    "    plt.imshow(np.transpose( inputs.to(\"cpu\").numpy()[0],(1,2,0)))\n",
    "    print( CLASSES[target],':',(CLASSES[target] ==CLASSES[predict]) )"
   ]
  },
  {
   "cell_type": "code",
   "execution_count": null,
   "id": "6f1f59d2-1367-4fe9-aec2-f0d8994600f3",
   "metadata": {},
   "outputs": [],
   "source": []
  }
 ],
 "metadata": {
  "kernelspec": {
   "display_name": "Python 3 (ipykernel)",
   "language": "python",
   "name": "python3"
  },
  "language_info": {
   "codemirror_mode": {
    "name": "ipython",
    "version": 3
   },
   "file_extension": ".py",
   "mimetype": "text/x-python",
   "name": "python",
   "nbconvert_exporter": "python",
   "pygments_lexer": "ipython3",
   "version": "3.9.5"
  }
 },
 "nbformat": 4,
 "nbformat_minor": 5
}
