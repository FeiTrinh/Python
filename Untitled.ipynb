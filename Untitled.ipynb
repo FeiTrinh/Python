{
 "cells": [
  {
   "cell_type": "markdown",
   "id": "a3ce1989-1c75-4ea3-82dd-e90d11806f4f",
   "metadata": {},
   "source": [
    "# 头文件导入"
   ]
  },
  {
   "cell_type": "code",
   "execution_count": 1,
   "id": "8a06cf50-d31d-4e64-a198-69847aefa27f",
   "metadata": {},
   "outputs": [],
   "source": [
    "import torch\n",
    "import torchvision\n",
    "import torchsummary\n",
    "import os\n",
    "import numpy as np\n",
    "import matplotlib.pyplot as plt"
   ]
  },
  {
   "cell_type": "markdown",
   "id": "ffe7240e-9b8b-413c-aa4e-13813d409d2a",
   "metadata": {},
   "source": [
    "# 常量定义"
   ]
  },
  {
   "cell_type": "code",
   "execution_count": 2,
   "id": "78506d3e-e292-4737-97ed-658771625622",
   "metadata": {},
   "outputs": [
    {
     "name": "stdout",
     "output_type": "stream",
     "text": [
      "cuda:0\n"
     ]
    }
   ],
   "source": [
    "BATCH_SIZE = 64   \n",
    "#图像行列像素数量\n",
    "IMAGE_ROW = 28   \n",
    "IMAGE_COL = 28\n",
    "#数据根路径\n",
    "DATA_SOURCE_DIR = \"../datasets/MNIST/raw/\"\n",
    "TRANSFORM = torchvision.transforms.Compose([\n",
    "    torchvision.transforms.ToTensor(),\n",
    "    torchvision.transforms.Normalize((0.,),(1.,))\n",
    "    ])\n",
    "DEVICE = torch.device(\"cuda:0\" if torch.cuda.is_available() else \"cpu\")\n",
    "print(DEVICE)"
   ]
  },
  {
   "cell_type": "markdown",
   "id": "1d4e6a91-eb82-4d21-a8f5-a4ad372ffeb4",
   "metadata": {},
   "source": [
    "# 数据集导入"
   ]
  },
  {
   "cell_type": "raw",
   "id": "2e6aeb97-c6ea-40ba-b371-9aad80a0f26e",
   "metadata": {},
   "source": [
    "数据集说明: \n",
    "参考网址 https://www.cnblogs.com/xianhan/p/9145966.html\n",
    "数据集网址 http://yann.lecun.com/exdb/mnist/\n",
    "\n",
    "train-labels-idx1-ubyte\n",
    "[offset] [type]          [value]          [description]\n",
    "0000     32 bit integer  0x00000801(2049) magic number (MSB first)\n",
    "0004     32 bit integer  60000            number of items\n",
    "0008     unsigned byte   ??               label\n",
    "0009     unsigned byte   ??               label\n",
    "........\n",
    "xxxx     unsigned byte   ??               label\n",
    "\n",
    "train-images-idx3-ubyte\n",
    "[offset] [type]          [value]          [description]\n",
    "0000     32 bit integer  0x00000803(2051) magic number\n",
    "0004     32 bit integer  60000            number of images\n",
    "0008     32 bit integer  28               number of rows\n",
    "0012     32 bit integer  28               number of columns\n",
    "0016     unsigned byte   ??               pixel\n",
    "0017     unsigned byte   ??               pixel\n",
    "........\n",
    "xxxx     unsigned byte   ??               pixel\n",
    "\n",
    "t10k-labels-idx1-ubyte\n",
    "[offset] [type]          [value]          [description]\n",
    "0000     32 bit integer  0x00000801(2049) magic number (MSB first)\n",
    "0004     32 bit integer  10000            number of items\n",
    "0008     unsigned byte   ??               label\n",
    "0009     unsigned byte   ??               label\n",
    "........\n",
    "xxxx     unsigned byte   ??               label\n",
    "\n",
    "t10k-images-idx3-ubyte\n",
    "[offset] [type]          [value]          [description]\n",
    "0000     32 bit integer  0x00000803(2051) magic number\n",
    "0004     32 bit integer  10000            number of images\n",
    "0008     32 bit integer  28               number of rows\n",
    "0012     32 bit integer  28               number of columns\n",
    "0016     unsigned byte   ??               pixel\n",
    "0017     unsigned byte   ??               pixel\n",
    "........\n",
    "xxxx     unsigned byte   ??               pixel"
   ]
  },
  {
   "cell_type": "markdown",
   "id": "966b1fc0-0c0a-4a19-97a8-de0b81bf0901",
   "metadata": {},
   "source": [
    "## 官方数据集导入"
   ]
  },
  {
   "cell_type": "code",
   "execution_count": 3,
   "id": "4c4f98bc-9da3-432d-a758-d6627f87a3d7",
   "metadata": {},
   "outputs": [
    {
     "name": "stderr",
     "output_type": "stream",
     "text": [
      "C:\\Users\\11426\\AppData\\Roaming\\Python\\Python39\\site-packages\\torchvision\\datasets\\mnist.py:498: UserWarning: The given NumPy array is not writeable, and PyTorch does not support non-writeable tensors. This means you can write to the underlying (supposedly non-writeable) NumPy array using the tensor. You may want to copy the array to protect its data or make it writeable before converting it to a tensor. This type of warning will be suppressed for the rest of this program. (Triggered internally at  ..\\torch\\csrc\\utils\\tensor_numpy.cpp:180.)\n",
      "  return torch.from_numpy(parsed.astype(m[2], copy=False)).view(*s)\n"
     ]
    }
   ],
   "source": [
    "TRAIN_DATASETS = torchvision.datasets.MNIST(root=\"../datasets\",train=True,download=True,transform=TRANSFORM)\n",
    "TRAIN_LOADER = torch.utils.data.DataLoader(TRAIN_DATASETS,shuffle=True,batch_size=BATCH_SIZE)\n",
    "TEST_DATASETS = torchvision.datasets.MNIST(root=\"../datasets\",train=False,download=True,transform=TRANSFORM)\n",
    "TEST_LOADER = torch.utils.data.DataLoader(TRAIN_DATASETS,shuffle=False,batch_size=BATCH_SIZE)"
   ]
  },
  {
   "cell_type": "code",
   "execution_count": 4,
   "id": "836ed6b6-7424-4c9b-90fa-d787a75ceeb7",
   "metadata": {},
   "outputs": [
    {
     "data": {
      "text/plain": [
       "<matplotlib.image.AxesImage at 0x1ffa7ac9dc0>"
      ]
     },
     "execution_count": 4,
     "metadata": {},
     "output_type": "execute_result"
    },
    {
     "data": {
      "image/png": "[encoded data removed]",
      "text/plain": [
       "<Figure size 432x288 with 1 Axes>"
      ]
     },
     "metadata": {
      "needs_background": "light"
     },
     "output_type": "display_data"
    }
   ],
   "source": [
    "img,label = TRAIN_DATASETS[0]\n",
    "img = img.numpy()\n",
    "plt.title(label)\n",
    "plt.imshow(img[0])"
   ]
  },
  {
   "cell_type": "markdown",
   "id": "13452bca-c8a9-4dda-8967-a67986556b3e",
   "metadata": {},
   "source": [
    "## 自定数据集"
   ]
  },
  {
   "cell_type": "raw",
   "id": "91aa3c89-9611-4117-8703-07cbc98761f2",
   "metadata": {},
   "source": [
    "torch官方解释文档（纯英文） https://pytorch.org/docs/stable/data.html\n",
    "torch.utils.data.Dataset源码   https://pytorch.org/docs/stable/_modules/torch/utils/data/dataset.html#Dataset\n",
    "\n",
    "自定义DataSet基本结构\n",
    "calss DataSets(torch.utils.data.Dataset):\n",
    "    def __init__(self):\n",
    "        super(DataSets,self).__init__()\n",
    "        pass\n",
    "    def __getitem__(self,idx):\n",
    "        pass\n",
    "    def __len__(self):\n",
    "        pass\n",
    "        "
   ]
  },
  {
   "cell_type": "raw",
   "id": "c3b9a238-6b0f-4cb3-82f0-c34872fcd923",
   "metadata": {},
   "source": [
    "struct.unpack_from(fmt, buf,offset)\n",
    "fmt: 内容解析格式 '>'or'<' + str(number) + 'B'or'b'or'I'or'i'\n",
    "buf: 文件缓存\n",
    "offset:指针偏移量"
   ]
  },
  {
   "cell_type": "code",
   "execution_count": 5,
   "id": "28214d76-c78e-46b3-8cc7-ea6e544e270f",
   "metadata": {},
   "outputs": [],
   "source": [
    "import struct\n",
    "def decode_idx1_ubyte(idx1_ubyte_file):\n",
    "    with open(idx1_ubyte_file, 'rb') as fp:\n",
    "        bin_data = fp.read()\n",
    "        #解析头文件        \n",
    "        fmt = \">II\"\n",
    "        magic_number,label_number = struct.unpack_from(fmt, bin_data, 0)\n",
    "        offset = 8 #指针偏移量\n",
    "        print(\"magic number:0x{:0>8x}({})\\tlabel number:{}\".format(magic_number,magic_number,label_number))\n",
    "        fmt=\">B\"\n",
    "        label=[]\n",
    "        for idx in range(label_number):\n",
    "            label.append(struct.unpack_from(fmt,bin_data,offset+idx))\n",
    "    return label\n",
    "def decode_idx3_ubyte(idx3_ubyte_file):\n",
    "    with open(idx3_ubyte_file, 'rb') as fp:\n",
    "        bin_data = fp.read()\n",
    "        #解析头文件        \n",
    "        fmt = \">IIII\"\n",
    "        magic_number,image_number,rows,cols = struct.unpack_from(fmt, bin_data,  0)\n",
    "        offset = 16 #指针偏移量\n",
    "        print(\"magic number:0x{:0>8x}({})\\t image number:{}\".format(magic_number, magic_number, image_number))\n",
    "        print(\"rows:{}\\t columns:{}\".format(rows, cols))\n",
    "        fmt='>'+str(rows*cols)+'B'\n",
    "        image=[]\n",
    "        for idx in range(image_number):\n",
    "            data = struct.unpack_from(fmt, bin_data, offset+idx*rows*cols)\n",
    "            data = np.array(data,dtype=np.uint8).reshape((rows, cols))\n",
    "            image.append(data)\n",
    "    image = np.array(image)\n",
    "    return image"
   ]
  },
  {
   "cell_type": "code",
   "execution_count": 6,
   "id": "2c9ae6a2-4017-463c-aa38-c38cc72538cd",
   "metadata": {},
   "outputs": [],
   "source": [
    "class MyMNISTDataSets(torch.utils.data.Dataset):\n",
    "    def __init__(self,root=DATA_SOURCE_DIR,train=True,transform=None):\n",
    "        super(MyMNISTDataSets,self).__init__()\n",
    "        self.root = root\n",
    "        self.transform = transform\n",
    "        self.train = train\n",
    "        if self.train:\n",
    "            image_path = \"train\"\n",
    "            label_path = \"train\"\n",
    "        else:\n",
    "            image_path = \"t10k\"\n",
    "            label_path = \"t10k\"\n",
    "        image_path = image_path+\"-images-idx3-ubyte\"\n",
    "        label_path = label_path+\"-labels-idx1-ubyte\"\n",
    "        image_path = os.path.join(self.root,image_path)\n",
    "        label_path = os.path.join(self.root,label_path)\n",
    "        self.data, self.targets = decode_idx3_ubyte(image_path),decode_idx1_ubyte(label_path)\n",
    "        \n",
    "    def __getitem__(self,idx):\n",
    "        data,label = self.data[idx], self.targets[idx]\n",
    "        label = torch.as_tensor(label,dtype=torch.int64)\n",
    "        if self.transform is not None:\n",
    "            data = self.transform(data)\n",
    "        data = data.type(torch.FloatTensor)\n",
    "        return data,label\n",
    "    \n",
    "    def __len__(self):\n",
    "        return len(self.data)"
   ]
  },
  {
   "cell_type": "code",
   "execution_count": 7,
   "id": "caed006b-fa1a-4fba-a019-245d53f7813c",
   "metadata": {},
   "outputs": [
    {
     "name": "stdout",
     "output_type": "stream",
     "text": [
      "magic number:0x00000803(2051)\t image number:60000\n",
      "rows:28\t columns:28\n",
      "magic number:0x00000801(2049)\tlabel number:60000\n",
      "magic number:0x00000803(2051)\t image number:10000\n",
      "rows:28\t columns:28\n",
      "magic number:0x00000801(2049)\tlabel number:10000\n"
     ]
    }
   ],
   "source": [
    "TRAIN_DATASETS = MyMNISTDataSets(train=True,transform=TRANSFORM)\n",
    "TRAIN_LOADER = torch.utils.data.DataLoader(TRAIN_DATASETS,shuffle=True,batch_size=BATCH_SIZE)\n",
    "TEST_DATASETS = MyMNISTDataSets(train=False,transform=TRANSFORM)\n",
    "TEST_LOADER = torch.utils.data.DataLoader(TRAIN_DATASETS,shuffle=False,batch_size=BATCH_SIZE)"
   ]
  },
  {
   "cell_type": "code",
   "execution_count": 8,
   "id": "ee4e2ad0-174e-4892-85a4-133428a921e2",
   "metadata": {},
   "outputs": [
    {
     "data": {
      "text/plain": [
       "<matplotlib.image.AxesImage at 0x1ffb5b729d0>"
      ]
     },
     "execution_count": 8,
     "metadata": {},
     "output_type": "execute_result"
    },
    {
     "data": {
      "image/png": "[encoded data removed]",
      "text/plain": [
       "<Figure size 432x288 with 1 Axes>"
      ]
     },
     "metadata": {
      "needs_background": "light"
     },
     "output_type": "display_data"
    }
   ],
   "source": [
    "img,label = TRAIN_DATASETS[0]\n",
    "img = img.numpy()\n",
    "plt.title(label)\n",
    "plt.imshow(img[0])"
   ]
  },
  {
   "cell_type": "markdown",
   "id": "3db1b37b-b5d9-4032-86ca-41b2888f49e4",
   "metadata": {},
   "source": [
    "# 网络定义"
   ]
  },
  {
   "cell_type": "markdown",
   "id": "531b0e92-a9b6-40b0-9f79-1f64ea846eb8",
   "metadata": {},
   "source": [
    "## 自定义线性网络"
   ]
  },
  {
   "cell_type": "code",
   "execution_count": 9,
   "id": "31e72b44-77ae-442f-9dbc-16c1fa1d9b9e",
   "metadata": {},
   "outputs": [
    {
     "name": "stdout",
     "output_type": "stream",
     "text": [
      "----------------------------------------------------------------\n",
      "        Layer (type)               Output Shape         Param #\n",
      "================================================================\n",
      "            Linear-1                  [-1, 512]         401,920\n",
      "            Linear-2                  [-1, 256]         131,328\n",
      "            Linear-3                  [-1, 128]          32,896\n",
      "            Linear-4                   [-1, 64]           8,256\n",
      "            Linear-5                   [-1, 10]             650\n",
      "================================================================\n",
      "Total params: 575,050\n",
      "Trainable params: 575,050\n",
      "Non-trainable params: 0\n",
      "----------------------------------------------------------------\n",
      "Input size (MB): 0.00\n",
      "Forward/backward pass size (MB): 0.01\n",
      "Params size (MB): 2.19\n",
      "Estimated Total Size (MB): 2.20\n",
      "----------------------------------------------------------------\n"
     ]
    }
   ],
   "source": [
    "class LinearNet(torch.nn.Module):\n",
    "    def __init__(self):\n",
    "        super(LinearNet,self).__init__()\n",
    "        self.l1 = torch.nn.Linear(28*28,512)\n",
    "        self.l2 = torch.nn.Linear(512,256)\n",
    "        self.l3 = torch.nn.Linear(256,128)\n",
    "        self.l4 = torch.nn.Linear(128,64)\n",
    "        self.l5 = torch.nn.Linear(64,10)\n",
    "    def forward(self,x):\n",
    "        x = x.view(-1,IMAGE_ROW*IMAGE_COL)\n",
    "        x = torch.nn.functional.relu(self.l1(x))\n",
    "        x = torch.nn.functional.relu(self.l2(x))\n",
    "        x = torch.nn.functional.relu(self.l3(x))\n",
    "        x = torch.nn.functional.relu(self.l4(x))\n",
    "        y = self.l5(x)\n",
    "        return y\n",
    "model = LinearNet()\n",
    "model.to(DEVICE)\n",
    "torchsummary.summary(model,(1,28,28))"
   ]
  },
  {
   "cell_type": "markdown",
   "id": "72e1f35e-5657-4813-94ea-03162b89d2ed",
   "metadata": {},
   "source": [
    "## 自定义FCNN"
   ]
  },
  {
   "cell_type": "code",
   "execution_count": 10,
   "id": "baf35e0a-8361-4c82-84e3-0f29b10d15b5",
   "metadata": {},
   "outputs": [
    {
     "name": "stdout",
     "output_type": "stream",
     "text": [
      "----------------------------------------------------------------\n",
      "        Layer (type)               Output Shape         Param #\n",
      "================================================================\n",
      "            Conv2d-1           [-1, 10, 24, 24]             260\n",
      "         MaxPool2d-2           [-1, 10, 12, 12]               0\n",
      "              ReLU-3           [-1, 10, 12, 12]               0\n",
      "            Conv2d-4             [-1, 20, 8, 8]           5,020\n",
      "         MaxPool2d-5             [-1, 20, 4, 4]               0\n",
      "              ReLU-6             [-1, 20, 4, 4]               0\n",
      "            Linear-7                   [-1, 10]           3,210\n",
      "================================================================\n",
      "Total params: 8,490\n",
      "Trainable params: 8,490\n",
      "Non-trainable params: 0\n",
      "----------------------------------------------------------------\n",
      "Input size (MB): 0.00\n",
      "Forward/backward pass size (MB): 0.08\n",
      "Params size (MB): 0.03\n",
      "Estimated Total Size (MB): 0.12\n",
      "----------------------------------------------------------------\n"
     ]
    },
    {
     "name": "stderr",
     "output_type": "stream",
     "text": [
      "C:\\Users\\11426\\AppData\\Roaming\\Python\\Python39\\site-packages\\torch\\nn\\functional.py:718: UserWarning: Named tensors and all their associated APIs are an experimental feature and subject to change. Please do not use them for anything important until they are released as stable. (Triggered internally at  ..\\c10/core/TensorImpl.h:1156.)\n",
      "  return torch.max_pool2d(input, kernel_size, stride, padding, dilation, ceil_mode)\n"
     ]
    }
   ],
   "source": [
    "class CNNNet(torch.nn.Module):\n",
    "    def __init__(self):\n",
    "        super(CNNNet,self).__init__()\n",
    "        self.conv1 = torch.nn.Conv2d(in_channels = 1,out_channels = 10,kernel_size=5)\n",
    "        self.conv2 = torch.nn.Conv2d(in_channels = 10,out_channels = 20,kernel_size=5)\n",
    "        self.pooling = torch.nn.MaxPool2d(2)\n",
    "        self.fc = torch.nn.Linear(in_features = 320,out_features = 10)\n",
    "        self.relu = torch.nn.ReLU()\n",
    "    def forward(self,x):\n",
    "        batch_size = x.size(0)\n",
    "        x = self.conv1(x)\n",
    "        x = self.pooling(x)\n",
    "        x = self.relu(x)\n",
    "        x = self.conv2(x)\n",
    "        x = self.pooling(x)\n",
    "        x = self.relu(x)\n",
    "        x = x.view(batch_size,-1)\n",
    "        x = self.fc(x)\n",
    "        return x\n",
    "model = CNNNet()\n",
    "model.to(DEVICE)\n",
    "torchsummary.summary(model,(1,28,28))"
   ]
  },
  {
   "cell_type": "markdown",
   "id": "1f8df595-3d65-4497-abb5-7b0f6ddd296a",
   "metadata": {},
   "source": [
    "# 模型训练"
   ]
  },
  {
   "cell_type": "code",
   "execution_count": 11,
   "id": "499aedba-e142-41d1-b4cd-174d3806459a",
   "metadata": {},
   "outputs": [],
   "source": [
    "criterion = torch.nn.CrossEntropyLoss()\n",
    "optimizer = torch.optim.SGD(model.parameters(),lr=0.01,momentum=0.5)"
   ]
  },
  {
   "cell_type": "code",
   "execution_count": 19,
   "id": "744fe954-bec5-4769-b19d-a0c5b739657e",
   "metadata": {},
   "outputs": [
    {
     "name": "stdout",
     "output_type": "stream",
     "text": [
      "epoch: 0\t train\t:95.95%\t loss:0.07\t\n",
      "epoch: 0\t test\t:95.95%\t accuracy:97.96%\t\n",
      "epoch: 1\t train\t:95.95%\t loss:0.06\t\n",
      "epoch: 1\t test\t:95.95%\t accuracy:97.95%\t\n"
     ]
    }
   ],
   "source": [
    "import sys\n",
    "\n",
    "for epoch in range(2):\n",
    "    model.train()\n",
    "    running_loss = 0.0\n",
    "    for batch_idx,data in enumerate(TRAIN_LOADER):\n",
    "        inputs,target = data\n",
    "        inputs,target = inputs.to(DEVICE),target.to(DEVICE)\n",
    "        optimizer.zero_grad()\n",
    "        outputs = model(inputs)\n",
    "        target = target.squeeze()\n",
    "        loss = criterion(outputs,target)\n",
    "        loss.backward()\n",
    "        optimizer.step()\n",
    "        \n",
    "        running_loss += loss.item()\n",
    "        if batch_idx % 50 == 49:\n",
    "            sys.stdout.write(\"epoch:{:2d}\\t {}\\t:{:.2%}\\t loss:{:.2f}\\t\\r\".format(epoch,\"train\",(batch_idx+1)/len(TRAIN_LOADER),running_loss/(batch_idx+1)))\n",
    "            sys.stdout.flush()\n",
    "    sys.stdout.write('\\n')\n",
    "    sys.stdout.flush()\n",
    "    \n",
    "    model.eval()\n",
    "    correct = 0\n",
    "    total = 0\n",
    "    with torch.no_grad():\n",
    "        for batch_idx,data in enumerate(TEST_LOADER):\n",
    "            inputs,target = data\n",
    "            inputs,target = inputs.to(DEVICE),target.to(DEVICE)\n",
    "            outputs = model(inputs)\n",
    "            target = target.squeeze()\n",
    "            _,predict = torch.max(outputs.data,dim=1)\n",
    "            total += target.size(0)\n",
    "            correct += (predict == target).sum().item()\n",
    "            if batch_idx % 50 == 49:\n",
    "                sys.stdout.write(\"epoch:{:2d}\\t {}\\t:{:.2%}\\t accuracy:{:.2%}\\t\\r\".format(epoch,\"test\",(batch_idx+1)/len(TEST_LOADER),correct/total))\n",
    "                sys.stdout.flush()\n",
    "        sys.stdout.write('\\n')\n",
    "        sys.stdout.flush()"
   ]
  },
  {
   "cell_type": "markdown",
   "id": "8e20b0d3-fba7-4a93-9b1c-d449470fc3a5",
   "metadata": {},
   "source": [
    "# 结果测试"
   ]
  },
  {
   "cell_type": "code",
   "execution_count": 20,
   "id": "bbdaf040-f256-424f-a2ca-5ba353170547",
   "metadata": {},
   "outputs": [
    {
     "name": "stdout",
     "output_type": "stream",
     "text": [
      "tensor([[ 14.5856,  -7.1460,   3.1320,  -5.1424, -11.2031,   4.0434,   2.6306,\n",
      "          -1.8595,  -2.3353,   6.4159]], device='cuda:0')\n"
     ]
    },
    {
     "data": {
      "image/png": "[encoded data removed]",
      "text/plain": [
       "<Figure size 432x288 with 1 Axes>"
      ]
     },
     "metadata": {
      "needs_background": "light"
     },
     "output_type": "display_data"
    }
   ],
   "source": [
    "with torch.no_grad():\n",
    "    choice = np.random.randint(0,len(TEST_DATASETS))\n",
    "    inputs,target = TEST_DATASETS[choice]\n",
    "    inputs = torch.as_tensor( inputs.numpy().reshape((1,1,28,28)))\n",
    "    inputs,target = inputs.to(DEVICE),target.to(DEVICE)\n",
    "    outputs = model(inputs)\n",
    "    print(outputs)\n",
    "    _,predict = torch.max(outputs.data,dim=1)\n",
    "    plt.title(predict)\n",
    "    plt.imshow(inputs.to(\"cpu\").numpy()[0,0])"
   ]
  },
  {
   "cell_type": "code",
   "execution_count": null,
   "id": "64dee8d5-cc05-4f2b-81e4-f6e6d509b683",
   "metadata": {},
   "outputs": [],
   "source": []
  }
 ],
 "metadata": {
  "kernelspec": {
   "display_name": "Python 3 (ipykernel)",
   "language": "python",
   "name": "python3"
  },
  "language_info": {
   "codemirror_mode": {
    "name": "ipython",
    "version": 3
   },
   "file_extension": ".py",
   "mimetype": "text/x-python",
   "name": "python",
   "nbconvert_exporter": "python",
   "pygments_lexer": "ipython3",
   "version": "3.9.5"
  },
  "toc-autonumbering": true,
  "toc-showcode": false,
  "toc-showmarkdowntxt": true
 },
 "nbformat": 4,
 "nbformat_minor": 5
}
